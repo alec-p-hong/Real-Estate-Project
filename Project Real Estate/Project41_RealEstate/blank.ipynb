{
 "cells": [
  {
   "cell_type": "code",
   "execution_count": 11,
   "metadata": {},
   "outputs": [
    {
     "name": "stdout",
     "output_type": "stream",
     "text": [
      "(16, 4)\n"
     ]
    }
   ],
   "source": [
    "class Exponents:\n",
    "    def __init__(self, a = 1, b = 1):\n",
    "        self.a = a\n",
    "        self.b = b\n",
    "    def __pow__(self, other):\n",
    "        a = self.a ** other.a\n",
    "        b = self.b ** other.b\n",
    "        return(a, b)\n",
    "e1 = Exponents(4, 2)\n",
    "e2 = Exponents(2, 2)\n",
    "print(e1 ** e2)"
   ]
  },
  {
   "cell_type": "code",
   "execution_count": null,
   "metadata": {},
   "outputs": [],
   "source": []
  }
 ],
 "metadata": {
  "interpreter": {
   "hash": "54efd26b0a3209e0235e3c4cb559382c0ee234b91b9a72337fb828952fc089d2"
  },
  "kernelspec": {
   "display_name": "Python 3 (ipykernel)",
   "language": "python",
   "name": "python3"
  },
  "language_info": {
   "codemirror_mode": {
    "name": "ipython",
    "version": 3
   },
   "file_extension": ".py",
   "mimetype": "text/x-python",
   "name": "python",
   "nbconvert_exporter": "python",
   "pygments_lexer": "ipython3",
   "version": "3.9.7"
  }
 },
 "nbformat": 4,
 "nbformat_minor": 2
}
